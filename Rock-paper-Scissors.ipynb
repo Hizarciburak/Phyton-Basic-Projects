{
 "cells": [
  {
   "cell_type": "code",
   "execution_count": 2,
   "id": "9d5a2a5d-0002-45a8-af86-0caad8b50108",
   "metadata": {},
   "outputs": [
    {
     "name": "stdin",
     "output_type": "stream",
     "text": [
      "Enter a choice (rock, paper, scissors):  scissors\n"
     ]
    },
    {
     "name": "stdout",
     "output_type": "stream",
     "text": [
      "You chose scissors, computer chose rock\n",
      "rock smashes scissors! You lose.\n"
     ]
    }
   ],
   "source": [
    "import random\n",
    "\n",
    "def get_choices():\n",
    "  player_choice = input(\"Enter a choice (rock, paper, scissors): \")\n",
    "  options = [\"rock\",\"paper\",\"scissors\"]\n",
    "  computer_choice = random.choice(options)\n",
    "  choices={\"player\":player_choice,\"computer\":computer_choice}\n",
    "  return choices\n",
    "\n",
    "def check_win (player, computer):\n",
    "  print(f\"You chose {player}, computer chose {computer}\")\n",
    "  if player == computer:\n",
    "    return \"It's a tie!\"\n",
    "  elif player== \"rock\":\n",
    "    if computer==\"scissors\":\n",
    "      return \"Rock smashes scissors! You win!\"\n",
    "    else: \n",
    "      return \"paper covers rock! You lose.\"\n",
    "  elif player==\"paper\" and computer==\"rock\":\n",
    "    return \"paper covers rock! You win!\"\n",
    "  elif player== \"paper\" and computer==\"scissors\":\n",
    "    return \"scissors cuts paper! You lose.\"\n",
    "  elif player== \"scissors\" and computer==\"paper\":\n",
    "    return \"scissors cuts paper! You win!\"\n",
    "  elif player== \"scissors\" and computer==\"rock\":\n",
    "    return \"rock smashes scissors! You lose.\"\n",
    "choices=get_choices()\n",
    "result=check_win(choices[\"player\"], choices[ \"computer\"])\n",
    "print(result)"
   ]
  },
  {
   "cell_type": "code",
   "execution_count": null,
   "id": "51e5d563-406a-480b-8e6c-e99c3a6d6ada",
   "metadata": {},
   "outputs": [],
   "source": []
  }
 ],
 "metadata": {
  "kernelspec": {
   "display_name": "Python 3 (ipykernel)",
   "language": "python",
   "name": "python3"
  },
  "language_info": {
   "codemirror_mode": {
    "name": "ipython",
    "version": 3
   },
   "file_extension": ".py",
   "mimetype": "text/x-python",
   "name": "python",
   "nbconvert_exporter": "python",
   "pygments_lexer": "ipython3",
   "version": "3.11.7"
  }
 },
 "nbformat": 4,
 "nbformat_minor": 5
}
